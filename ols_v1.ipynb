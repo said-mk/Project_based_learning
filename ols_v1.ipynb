{
 "cells": [
  {
   "cell_type": "code",
   "execution_count": 75,
   "id": "4d142a3e",
   "metadata": {},
   "outputs": [
    {
     "name": "stdout",
     "output_type": "stream",
     "text": [
      "/home/saeid/python/Project_based_learning\n",
      "Optimal parameters (theta): [-2.88141491 16.98754553 -0.26173686  0.98447605]\n",
      "Test RMSE: 10.066981410352668\n",
      "Train RMSE: 11.520882174919768\n"
     ]
    }
   ],
   "source": [
    "import os\n",
    "import numpy as np\n",
    "import matplotlib.pyplot as plt\n",
    "\n",
    "print(os.getcwd())\n",
    "\n",
    "file= np.genfromtxt(\"bmi.csv\", delimiter=',', skip_header=1)\n",
    "\n",
    "data= file[:,:-1]\n",
    "\n",
    "total_sample = data.shape[0]\n",
    "train_size = int(0.95*total_sample)\n",
    "shuffled_indicies = np.random.permutation(total_sample)\n",
    "\n",
    "X = data[:,1:] #height, weight, bmi\n",
    "y = data[:,0]  # age\n",
    "\n",
    "X_train = X[shuffled_indicies[:train_size]]\n",
    "X_test = X[shuffled_indicies[train_size:]]\n",
    "\n",
    "y_train = y[shuffled_indicies[:train_size]]\n",
    "y_test = y[shuffled_indicies[train_size:]]\n",
    "\n",
    "# applying OlS Regression\n",
    "\n",
    "def ols_lr(X,y):\n",
    "    #adding the bias term \n",
    "    X_b = np.hstack([np.ones((X.shape[0],1)),X])\n",
    "    theta = np.linalg.inv(X_b.T @ X_b) @ X_b.T @ y\n",
    "    return theta\n",
    "\n",
    "def ols_predict(theta,X):\n",
    "    X_b = np.hstack([np.ones((X.shape[0],1)),X])\n",
    "    predictions = X_b @ theta\n",
    "    return predictions\n",
    "\n",
    "# Train the model\n",
    "theta= ols_lr(X_train, y_train)\n",
    "print(\"Optimal parameters (theta):\", theta)\n",
    "\n",
    "# Make predictions on the test set\n",
    "y_pred = ols_predict(theta, X_test)\n",
    "# print(\"Predictions on test set:\", y_pred)\n",
    "\n",
    "# Calculate the Root Mean Squared Error (MSE)\n",
    "def rmse(y_true, y_pred):\n",
    "    return np.sqrt(np.mean((y_true - y_pred) ** 2))\n",
    "\n",
    "# Calculate RMSE for the test set\n",
    "test_rmse = rmse(y_test, y_pred)\n",
    "print(\"Test RMSE:\", test_rmse)\n",
    "\n",
    "# Calculate RMSE for the training set\n",
    "y_train_pred = ols_predict(theta, X_train)\n",
    "train_rmse = rmse(y_train, y_train_pred)\n",
    "print(\"Train RMSE:\", train_rmse)\n",
    "\n",
    "\n",
    "    "
   ]
  },
  {
   "cell_type": "code",
   "execution_count": 67,
   "id": "852fb995",
   "metadata": {},
   "outputs": [
    {
     "data": {
      "text/plain": [
       "(1, 741)"
      ]
     },
     "execution_count": 67,
     "metadata": {},
     "output_type": "execute_result"
    }
   ],
   "source": [
    "X_train.shape\n",
    "np.hstack([np.ones((X.shape[0],1)),X]).shape\n",
    "y.reshape(1,-1).shape"
   ]
  },
  {
   "cell_type": "code",
   "execution_count": 70,
   "id": "f3130bc2",
   "metadata": {},
   "outputs": [
    {
     "data": {
      "text/plain": [
       "(741,)"
      ]
     },
     "execution_count": 70,
     "metadata": {},
     "output_type": "execute_result"
    }
   ],
   "source": [
    "y.shape"
   ]
  }
 ],
 "metadata": {
  "kernelspec": {
   "display_name": "mlnv",
   "language": "python",
   "name": "python3"
  },
  "language_info": {
   "codemirror_mode": {
    "name": "ipython",
    "version": 3
   },
   "file_extension": ".py",
   "mimetype": "text/x-python",
   "name": "python",
   "nbconvert_exporter": "python",
   "pygments_lexer": "ipython3",
   "version": "3.12.3"
  }
 },
 "nbformat": 4,
 "nbformat_minor": 5
}
